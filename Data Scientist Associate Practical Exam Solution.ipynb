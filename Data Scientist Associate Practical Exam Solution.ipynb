{
 "cells": [
  {
   "cell_type": "markdown",
   "metadata": {},
   "source": [
    "**# Data Scientist Associate Practical Exam Solution**\n"
   ]
  },
  {
   "cell_type": "code",
   "execution_count": 153,
   "metadata": {},
   "outputs": [
    {
     "data": {
      "text/html": [
       "<div>\n",
       "<style scoped>\n",
       "    .dataframe tbody tr th:only-of-type {\n",
       "        vertical-align: middle;\n",
       "    }\n",
       "\n",
       "    .dataframe tbody tr th {\n",
       "        vertical-align: top;\n",
       "    }\n",
       "\n",
       "    .dataframe thead th {\n",
       "        text-align: right;\n",
       "    }\n",
       "</style>\n",
       "<table border=\"1\" class=\"dataframe\">\n",
       "  <thead>\n",
       "    <tr style=\"text-align: right;\">\n",
       "      <th></th>\n",
       "      <th>course_id</th>\n",
       "      <th>course_type</th>\n",
       "      <th>year</th>\n",
       "      <th>enrollment_count</th>\n",
       "      <th>pre_score</th>\n",
       "      <th>post_score</th>\n",
       "      <th>pre_requirement</th>\n",
       "      <th>department</th>\n",
       "    </tr>\n",
       "  </thead>\n",
       "  <tbody>\n",
       "    <tr>\n",
       "      <th>0</th>\n",
       "      <td>1</td>\n",
       "      <td>classroom</td>\n",
       "      <td>2018</td>\n",
       "      <td>165</td>\n",
       "      <td>28.14</td>\n",
       "      <td>73.0</td>\n",
       "      <td>Beginner</td>\n",
       "      <td>Science</td>\n",
       "    </tr>\n",
       "    <tr>\n",
       "      <th>1</th>\n",
       "      <td>2</td>\n",
       "      <td>classroom</td>\n",
       "      <td>2020</td>\n",
       "      <td>175</td>\n",
       "      <td>79.68</td>\n",
       "      <td>86.0</td>\n",
       "      <td>NaN</td>\n",
       "      <td>Science</td>\n",
       "    </tr>\n",
       "    <tr>\n",
       "      <th>2</th>\n",
       "      <td>3</td>\n",
       "      <td>online</td>\n",
       "      <td>2016</td>\n",
       "      <td>257</td>\n",
       "      <td>57.24</td>\n",
       "      <td>80.0</td>\n",
       "      <td>NaN</td>\n",
       "      <td>Mathematics</td>\n",
       "    </tr>\n",
       "    <tr>\n",
       "      <th>3</th>\n",
       "      <td>4</td>\n",
       "      <td>online</td>\n",
       "      <td>2013</td>\n",
       "      <td>251</td>\n",
       "      <td>97.67</td>\n",
       "      <td>75.0</td>\n",
       "      <td>Beginner</td>\n",
       "      <td>Technology</td>\n",
       "    </tr>\n",
       "    <tr>\n",
       "      <th>4</th>\n",
       "      <td>5</td>\n",
       "      <td>classroom</td>\n",
       "      <td>2019</td>\n",
       "      <td>165</td>\n",
       "      <td>39.75</td>\n",
       "      <td>76.0</td>\n",
       "      <td>Beginner</td>\n",
       "      <td>Science</td>\n",
       "    </tr>\n",
       "  </tbody>\n",
       "</table>\n",
       "</div>"
      ],
      "text/plain": [
       "   course_id course_type  year  enrollment_count pre_score  post_score   \n",
       "0          1   classroom  2018               165     28.14        73.0  \\\n",
       "1          2   classroom  2020               175     79.68        86.0   \n",
       "2          3      online  2016               257     57.24        80.0   \n",
       "3          4      online  2013               251     97.67        75.0   \n",
       "4          5   classroom  2019               165     39.75        76.0   \n",
       "\n",
       "  pre_requirement   department  \n",
       "0        Beginner      Science  \n",
       "1             NaN      Science  \n",
       "2             NaN  Mathematics  \n",
       "3        Beginner   Technology  \n",
       "4        Beginner      Science  "
      ]
     },
     "execution_count": 153,
     "metadata": {},
     "output_type": "execute_result"
    }
   ],
   "source": [
    "#Load data\n",
    "import pandas as pd \n",
    "data=pd.read_csv('university_enrollment_2306.csv')\n",
    "data.head()"
   ]
  },
  {
   "cell_type": "code",
   "execution_count": 154,
   "metadata": {},
   "outputs": [
    {
     "name": "stdout",
     "output_type": "stream",
     "text": [
      "<class 'pandas.core.frame.DataFrame'>\n",
      "RangeIndex: 1850 entries, 0 to 1849\n",
      "Data columns (total 8 columns):\n",
      " #   Column            Non-Null Count  Dtype  \n",
      "---  ------            --------------  -----  \n",
      " 0   course_id         1850 non-null   int64  \n",
      " 1   course_type       1850 non-null   object \n",
      " 2   year              1850 non-null   int64  \n",
      " 3   enrollment_count  1850 non-null   int64  \n",
      " 4   pre_score         1850 non-null   object \n",
      " 5   post_score        1665 non-null   float64\n",
      " 6   pre_requirement   959 non-null    object \n",
      " 7   department        1850 non-null   object \n",
      "dtypes: float64(1), int64(3), object(4)\n",
      "memory usage: 115.8+ KB\n"
     ]
    }
   ],
   "source": [
    "\n",
    "#Description of data\n",
    "data.info()"
   ]
  },
  {
   "cell_type": "code",
   "execution_count": 155,
   "metadata": {},
   "outputs": [
    {
     "name": "stdout",
     "output_type": "stream",
     "text": [
      "<class 'pandas.core.frame.DataFrame'>\n",
      "RangeIndex: 1850 entries, 0 to 1849\n",
      "Data columns (total 8 columns):\n",
      " #   Column            Non-Null Count  Dtype   \n",
      "---  ------            --------------  -----   \n",
      " 0   course_id         1850 non-null   category\n",
      " 1   course_type       1850 non-null   category\n",
      " 2   year              1850 non-null   int64   \n",
      " 3   enrollment_count  1850 non-null   int64   \n",
      " 4   pre_score         1850 non-null   float64 \n",
      " 5   post_score        1665 non-null   float64 \n",
      " 6   pre_requirement   959 non-null    category\n",
      " 7   department        1850 non-null   category\n",
      "dtypes: category(4), float64(2), int64(2)\n",
      "memory usage: 146.4 KB\n"
     ]
    }
   ],
   "source": [
    "#Changed data types as described in the table. \n",
    "data['pre_score']=data['pre_score'].apply(lambda x: float(x.split()[0].replace('-', '0')))\n",
    "data = data.astype({\"course_id\":'category', \"course_type\":'category',\n",
    "                    \"pre_requirement\":'category',\"department\":'category', \"pre_score\":'float',})\n",
    "data.info()\n"
   ]
  },
  {
   "cell_type": "code",
   "execution_count": 156,
   "metadata": {},
   "outputs": [
    {
     "data": {
      "text/plain": [
       "course_id             0\n",
       "course_type           0\n",
       "year                  0\n",
       "enrollment_count      0\n",
       "pre_score             0\n",
       "post_score          185\n",
       "pre_requirement     891\n",
       "department            0\n",
       "dtype: int64"
      ]
     },
     "execution_count": 156,
     "metadata": {},
     "output_type": "execute_result"
    }
   ],
   "source": [
    "#Checking for number of missing values in each column \n",
    "data.isna().sum()"
   ]
  },
  {
   "cell_type": "code",
   "execution_count": 157,
   "metadata": {},
   "outputs": [
    {
     "ename": "TypeError",
     "evalue": "Cannot setitem on a Categorical with a new category (None), set the categories first",
     "output_type": "error",
     "traceback": [
      "\u001b[1;31m---------------------------------------------------------------------------\u001b[0m",
      "\u001b[1;31mTypeError\u001b[0m                                 Traceback (most recent call last)",
      "Cell \u001b[1;32mIn[157], line 2\u001b[0m\n\u001b[0;32m      1\u001b[0m \u001b[39m# Fill NaN values in post_score and pre_requirement with 0 and None respectively.\u001b[39;00m\n\u001b[1;32m----> 2\u001b[0m data\u001b[39m.\u001b[39;49mfillna(value\u001b[39m=\u001b[39;49m{\u001b[39m'\u001b[39;49m\u001b[39mpost_score\u001b[39;49m\u001b[39m'\u001b[39;49m: \u001b[39m0\u001b[39;49m, \u001b[39m'\u001b[39;49m\u001b[39mpre_requirement\u001b[39;49m\u001b[39m'\u001b[39;49m: \u001b[39m'\u001b[39;49m\u001b[39mNone\u001b[39;49m\u001b[39m'\u001b[39;49m}, inplace\u001b[39m=\u001b[39;49m\u001b[39mTrue\u001b[39;49;00m)\n\u001b[0;32m      3\u001b[0m data\u001b[39m.\u001b[39misna()\u001b[39m.\u001b[39msum()\n",
      "File \u001b[1;32mc:\\Users\\CASEY OTIENO\\AppData\\Local\\Programs\\Python\\Python311\\Lib\\site-packages\\pandas\\core\\frame.py:5501\u001b[0m, in \u001b[0;36mDataFrame.fillna\u001b[1;34m(self, value, method, axis, inplace, limit, downcast)\u001b[0m\n\u001b[0;32m   5490\u001b[0m \u001b[39m@doc\u001b[39m(NDFrame\u001b[39m.\u001b[39mfillna, \u001b[39m*\u001b[39m\u001b[39m*\u001b[39m_shared_doc_kwargs)\n\u001b[0;32m   5491\u001b[0m \u001b[39mdef\u001b[39;00m \u001b[39mfillna\u001b[39m(\n\u001b[0;32m   5492\u001b[0m     \u001b[39mself\u001b[39m,\n\u001b[1;32m   (...)\u001b[0m\n\u001b[0;32m   5499\u001b[0m     downcast: \u001b[39mdict\u001b[39m \u001b[39m|\u001b[39m \u001b[39mNone\u001b[39;00m \u001b[39m=\u001b[39m \u001b[39mNone\u001b[39;00m,\n\u001b[0;32m   5500\u001b[0m ) \u001b[39m-\u001b[39m\u001b[39m>\u001b[39m DataFrame \u001b[39m|\u001b[39m \u001b[39mNone\u001b[39;00m:\n\u001b[1;32m-> 5501\u001b[0m     \u001b[39mreturn\u001b[39;00m \u001b[39msuper\u001b[39;49m()\u001b[39m.\u001b[39;49mfillna(\n\u001b[0;32m   5502\u001b[0m         value\u001b[39m=\u001b[39;49mvalue,\n\u001b[0;32m   5503\u001b[0m         method\u001b[39m=\u001b[39;49mmethod,\n\u001b[0;32m   5504\u001b[0m         axis\u001b[39m=\u001b[39;49maxis,\n\u001b[0;32m   5505\u001b[0m         inplace\u001b[39m=\u001b[39;49minplace,\n\u001b[0;32m   5506\u001b[0m         limit\u001b[39m=\u001b[39;49mlimit,\n\u001b[0;32m   5507\u001b[0m         downcast\u001b[39m=\u001b[39;49mdowncast,\n\u001b[0;32m   5508\u001b[0m     )\n",
      "File \u001b[1;32mc:\\Users\\CASEY OTIENO\\AppData\\Local\\Programs\\Python\\Python311\\Lib\\site-packages\\pandas\\core\\generic.py:6939\u001b[0m, in \u001b[0;36mNDFrame.fillna\u001b[1;34m(self, value, method, axis, inplace, limit, downcast)\u001b[0m\n\u001b[0;32m   6931\u001b[0m \u001b[39m# error: Item \"None\" of \"Optional[Dict[Any, Any]]\" has no\u001b[39;00m\n\u001b[0;32m   6932\u001b[0m \u001b[39m# attribute \"get\"\u001b[39;00m\n\u001b[0;32m   6933\u001b[0m downcast_k \u001b[39m=\u001b[39m (\n\u001b[0;32m   6934\u001b[0m     downcast\n\u001b[0;32m   6935\u001b[0m     \u001b[39mif\u001b[39;00m \u001b[39mnot\u001b[39;00m is_dict\n\u001b[0;32m   6936\u001b[0m     \u001b[39melse\u001b[39;00m downcast\u001b[39m.\u001b[39mget(k)  \u001b[39m# type: ignore[union-attr]\u001b[39;00m\n\u001b[0;32m   6937\u001b[0m )\n\u001b[1;32m-> 6939\u001b[0m res_k \u001b[39m=\u001b[39m result[k]\u001b[39m.\u001b[39;49mfillna(v, limit\u001b[39m=\u001b[39;49mlimit, downcast\u001b[39m=\u001b[39;49mdowncast_k)\n\u001b[0;32m   6941\u001b[0m \u001b[39mif\u001b[39;00m \u001b[39mnot\u001b[39;00m inplace:\n\u001b[0;32m   6942\u001b[0m     result[k] \u001b[39m=\u001b[39m res_k\n",
      "File \u001b[1;32mc:\\Users\\CASEY OTIENO\\AppData\\Local\\Programs\\Python\\Python311\\Lib\\site-packages\\pandas\\core\\series.py:5146\u001b[0m, in \u001b[0;36mSeries.fillna\u001b[1;34m(self, value, method, axis, inplace, limit, downcast)\u001b[0m\n\u001b[0;32m   5135\u001b[0m \u001b[39m@doc\u001b[39m(NDFrame\u001b[39m.\u001b[39mfillna, \u001b[39m*\u001b[39m\u001b[39m*\u001b[39m_shared_doc_kwargs)\n\u001b[0;32m   5136\u001b[0m \u001b[39mdef\u001b[39;00m \u001b[39mfillna\u001b[39m(\n\u001b[0;32m   5137\u001b[0m     \u001b[39mself\u001b[39m,\n\u001b[1;32m   (...)\u001b[0m\n\u001b[0;32m   5144\u001b[0m     downcast: \u001b[39mdict\u001b[39m \u001b[39m|\u001b[39m \u001b[39mNone\u001b[39;00m \u001b[39m=\u001b[39m \u001b[39mNone\u001b[39;00m,\n\u001b[0;32m   5145\u001b[0m ) \u001b[39m-\u001b[39m\u001b[39m>\u001b[39m Series \u001b[39m|\u001b[39m \u001b[39mNone\u001b[39;00m:\n\u001b[1;32m-> 5146\u001b[0m     \u001b[39mreturn\u001b[39;00m \u001b[39msuper\u001b[39;49m()\u001b[39m.\u001b[39;49mfillna(\n\u001b[0;32m   5147\u001b[0m         value\u001b[39m=\u001b[39;49mvalue,\n\u001b[0;32m   5148\u001b[0m         method\u001b[39m=\u001b[39;49mmethod,\n\u001b[0;32m   5149\u001b[0m         axis\u001b[39m=\u001b[39;49maxis,\n\u001b[0;32m   5150\u001b[0m         inplace\u001b[39m=\u001b[39;49minplace,\n\u001b[0;32m   5151\u001b[0m         limit\u001b[39m=\u001b[39;49mlimit,\n\u001b[0;32m   5152\u001b[0m         downcast\u001b[39m=\u001b[39;49mdowncast,\n\u001b[0;32m   5153\u001b[0m     )\n",
      "File \u001b[1;32mc:\\Users\\CASEY OTIENO\\AppData\\Local\\Programs\\Python\\Python311\\Lib\\site-packages\\pandas\\core\\generic.py:6911\u001b[0m, in \u001b[0;36mNDFrame.fillna\u001b[1;34m(self, value, method, axis, inplace, limit, downcast)\u001b[0m\n\u001b[0;32m   6904\u001b[0m     \u001b[39melse\u001b[39;00m:\n\u001b[0;32m   6905\u001b[0m         \u001b[39mraise\u001b[39;00m \u001b[39mTypeError\u001b[39;00m(\n\u001b[0;32m   6906\u001b[0m             \u001b[39m'\u001b[39m\u001b[39m\"\u001b[39m\u001b[39mvalue\u001b[39m\u001b[39m\"\u001b[39m\u001b[39m parameter must be a scalar, dict \u001b[39m\u001b[39m'\u001b[39m\n\u001b[0;32m   6907\u001b[0m             \u001b[39m\"\u001b[39m\u001b[39mor Series, but you passed a \u001b[39m\u001b[39m\"\u001b[39m\n\u001b[0;32m   6908\u001b[0m             \u001b[39mf\u001b[39m\u001b[39m'\u001b[39m\u001b[39m\"\u001b[39m\u001b[39m{\u001b[39;00m\u001b[39mtype\u001b[39m(value)\u001b[39m.\u001b[39m\u001b[39m__name__\u001b[39m\u001b[39m}\u001b[39;00m\u001b[39m\"\u001b[39m\u001b[39m'\u001b[39m\n\u001b[0;32m   6909\u001b[0m         )\n\u001b[1;32m-> 6911\u001b[0m     new_data \u001b[39m=\u001b[39m \u001b[39mself\u001b[39;49m\u001b[39m.\u001b[39;49m_mgr\u001b[39m.\u001b[39;49mfillna(\n\u001b[0;32m   6912\u001b[0m         value\u001b[39m=\u001b[39;49mvalue, limit\u001b[39m=\u001b[39;49mlimit, inplace\u001b[39m=\u001b[39;49minplace, downcast\u001b[39m=\u001b[39;49mdowncast\n\u001b[0;32m   6913\u001b[0m     )\n\u001b[0;32m   6915\u001b[0m \u001b[39melif\u001b[39;00m \u001b[39misinstance\u001b[39m(value, (\u001b[39mdict\u001b[39m, ABCSeries)):\n\u001b[0;32m   6916\u001b[0m     \u001b[39mif\u001b[39;00m axis \u001b[39m==\u001b[39m \u001b[39m1\u001b[39m:\n",
      "File \u001b[1;32mc:\\Users\\CASEY OTIENO\\AppData\\Local\\Programs\\Python\\Python311\\Lib\\site-packages\\pandas\\core\\internals\\managers.py:433\u001b[0m, in \u001b[0;36mBaseBlockManager.fillna\u001b[1;34m(self, value, limit, inplace, downcast)\u001b[0m\n\u001b[0;32m    429\u001b[0m \u001b[39mif\u001b[39;00m limit \u001b[39mis\u001b[39;00m \u001b[39mnot\u001b[39;00m \u001b[39mNone\u001b[39;00m:\n\u001b[0;32m    430\u001b[0m     \u001b[39m# Do this validation even if we go through one of the no-op paths\u001b[39;00m\n\u001b[0;32m    431\u001b[0m     limit \u001b[39m=\u001b[39m libalgos\u001b[39m.\u001b[39mvalidate_limit(\u001b[39mNone\u001b[39;00m, limit\u001b[39m=\u001b[39mlimit)\n\u001b[1;32m--> 433\u001b[0m \u001b[39mreturn\u001b[39;00m \u001b[39mself\u001b[39;49m\u001b[39m.\u001b[39;49mapply(\n\u001b[0;32m    434\u001b[0m     \u001b[39m\"\u001b[39;49m\u001b[39mfillna\u001b[39;49m\u001b[39m\"\u001b[39;49m,\n\u001b[0;32m    435\u001b[0m     value\u001b[39m=\u001b[39;49mvalue,\n\u001b[0;32m    436\u001b[0m     limit\u001b[39m=\u001b[39;49mlimit,\n\u001b[0;32m    437\u001b[0m     inplace\u001b[39m=\u001b[39;49minplace,\n\u001b[0;32m    438\u001b[0m     downcast\u001b[39m=\u001b[39;49mdowncast,\n\u001b[0;32m    439\u001b[0m     using_cow\u001b[39m=\u001b[39;49musing_copy_on_write(),\n\u001b[0;32m    440\u001b[0m )\n",
      "File \u001b[1;32mc:\\Users\\CASEY OTIENO\\AppData\\Local\\Programs\\Python\\Python311\\Lib\\site-packages\\pandas\\core\\internals\\managers.py:352\u001b[0m, in \u001b[0;36mBaseBlockManager.apply\u001b[1;34m(self, f, align_keys, **kwargs)\u001b[0m\n\u001b[0;32m    350\u001b[0m         applied \u001b[39m=\u001b[39m b\u001b[39m.\u001b[39mapply(f, \u001b[39m*\u001b[39m\u001b[39m*\u001b[39mkwargs)\n\u001b[0;32m    351\u001b[0m     \u001b[39melse\u001b[39;00m:\n\u001b[1;32m--> 352\u001b[0m         applied \u001b[39m=\u001b[39m \u001b[39mgetattr\u001b[39;49m(b, f)(\u001b[39m*\u001b[39;49m\u001b[39m*\u001b[39;49mkwargs)\n\u001b[0;32m    353\u001b[0m     result_blocks \u001b[39m=\u001b[39m extend_blocks(applied, result_blocks)\n\u001b[0;32m    355\u001b[0m out \u001b[39m=\u001b[39m \u001b[39mtype\u001b[39m(\u001b[39mself\u001b[39m)\u001b[39m.\u001b[39mfrom_blocks(result_blocks, \u001b[39mself\u001b[39m\u001b[39m.\u001b[39maxes)\n",
      "File \u001b[1;32mc:\\Users\\CASEY OTIENO\\AppData\\Local\\Programs\\Python\\Python311\\Lib\\site-packages\\pandas\\core\\internals\\blocks.py:1866\u001b[0m, in \u001b[0;36mExtensionBlock.fillna\u001b[1;34m(self, value, limit, inplace, downcast, using_cow)\u001b[0m\n\u001b[0;32m   1864\u001b[0m \u001b[39melse\u001b[39;00m:\n\u001b[0;32m   1865\u001b[0m     refs \u001b[39m=\u001b[39m \u001b[39mNone\u001b[39;00m\n\u001b[1;32m-> 1866\u001b[0m     new_values \u001b[39m=\u001b[39m \u001b[39mself\u001b[39;49m\u001b[39m.\u001b[39;49mvalues\u001b[39m.\u001b[39;49mfillna(value\u001b[39m=\u001b[39;49mvalue, method\u001b[39m=\u001b[39;49m\u001b[39mNone\u001b[39;49;00m, limit\u001b[39m=\u001b[39;49mlimit)\n\u001b[0;32m   1867\u001b[0m nb \u001b[39m=\u001b[39m \u001b[39mself\u001b[39m\u001b[39m.\u001b[39mmake_block_same_class(new_values, refs\u001b[39m=\u001b[39mrefs)\n\u001b[0;32m   1868\u001b[0m \u001b[39mreturn\u001b[39;00m nb\u001b[39m.\u001b[39m_maybe_downcast([nb], downcast, using_cow\u001b[39m=\u001b[39musing_cow)\n",
      "File \u001b[1;32mc:\\Users\\CASEY OTIENO\\AppData\\Local\\Programs\\Python\\Python311\\Lib\\site-packages\\pandas\\core\\arrays\\_mixins.py:324\u001b[0m, in \u001b[0;36mNDArrayBackedExtensionArray.fillna\u001b[1;34m(self, value, method, limit)\u001b[0m\n\u001b[0;32m    321\u001b[0m     \u001b[39melse\u001b[39;00m:\n\u001b[0;32m    322\u001b[0m         \u001b[39m# fill with value\u001b[39;00m\n\u001b[0;32m    323\u001b[0m         new_values \u001b[39m=\u001b[39m \u001b[39mself\u001b[39m\u001b[39m.\u001b[39mcopy()\n\u001b[1;32m--> 324\u001b[0m         new_values[mask] \u001b[39m=\u001b[39m value\n\u001b[0;32m    325\u001b[0m \u001b[39melse\u001b[39;00m:\n\u001b[0;32m    326\u001b[0m     \u001b[39m# We validate the fill_value even if there is nothing to fill\u001b[39;00m\n\u001b[0;32m    327\u001b[0m     \u001b[39mif\u001b[39;00m value \u001b[39mis\u001b[39;00m \u001b[39mnot\u001b[39;00m \u001b[39mNone\u001b[39;00m:\n",
      "File \u001b[1;32mc:\\Users\\CASEY OTIENO\\AppData\\Local\\Programs\\Python\\Python311\\Lib\\site-packages\\pandas\\core\\arrays\\_mixins.py:249\u001b[0m, in \u001b[0;36mNDArrayBackedExtensionArray.__setitem__\u001b[1;34m(self, key, value)\u001b[0m\n\u001b[0;32m    247\u001b[0m \u001b[39mdef\u001b[39;00m \u001b[39m__setitem__\u001b[39m(\u001b[39mself\u001b[39m, key, value) \u001b[39m-\u001b[39m\u001b[39m>\u001b[39m \u001b[39mNone\u001b[39;00m:\n\u001b[0;32m    248\u001b[0m     key \u001b[39m=\u001b[39m check_array_indexer(\u001b[39mself\u001b[39m, key)\n\u001b[1;32m--> 249\u001b[0m     value \u001b[39m=\u001b[39m \u001b[39mself\u001b[39;49m\u001b[39m.\u001b[39;49m_validate_setitem_value(value)\n\u001b[0;32m    250\u001b[0m     \u001b[39mself\u001b[39m\u001b[39m.\u001b[39m_ndarray[key] \u001b[39m=\u001b[39m value\n",
      "File \u001b[1;32mc:\\Users\\CASEY OTIENO\\AppData\\Local\\Programs\\Python\\Python311\\Lib\\site-packages\\pandas\\core\\arrays\\categorical.py:1297\u001b[0m, in \u001b[0;36mCategorical._validate_setitem_value\u001b[1;34m(self, value)\u001b[0m\n\u001b[0;32m   1295\u001b[0m     \u001b[39mreturn\u001b[39;00m \u001b[39mself\u001b[39m\u001b[39m.\u001b[39m_validate_listlike(value)\n\u001b[0;32m   1296\u001b[0m \u001b[39melse\u001b[39;00m:\n\u001b[1;32m-> 1297\u001b[0m     \u001b[39mreturn\u001b[39;00m \u001b[39mself\u001b[39;49m\u001b[39m.\u001b[39;49m_validate_scalar(value)\n",
      "File \u001b[1;32mc:\\Users\\CASEY OTIENO\\AppData\\Local\\Programs\\Python\\Python311\\Lib\\site-packages\\pandas\\core\\arrays\\categorical.py:1322\u001b[0m, in \u001b[0;36mCategorical._validate_scalar\u001b[1;34m(self, fill_value)\u001b[0m\n\u001b[0;32m   1320\u001b[0m     fill_value \u001b[39m=\u001b[39m \u001b[39mself\u001b[39m\u001b[39m.\u001b[39m_unbox_scalar(fill_value)\n\u001b[0;32m   1321\u001b[0m \u001b[39melse\u001b[39;00m:\n\u001b[1;32m-> 1322\u001b[0m     \u001b[39mraise\u001b[39;00m \u001b[39mTypeError\u001b[39;00m(\n\u001b[0;32m   1323\u001b[0m         \u001b[39m\"\u001b[39m\u001b[39mCannot setitem on a Categorical with a new \u001b[39m\u001b[39m\"\u001b[39m\n\u001b[0;32m   1324\u001b[0m         \u001b[39mf\u001b[39m\u001b[39m\"\u001b[39m\u001b[39mcategory (\u001b[39m\u001b[39m{\u001b[39;00mfill_value\u001b[39m}\u001b[39;00m\u001b[39m), set the categories first\u001b[39m\u001b[39m\"\u001b[39m\n\u001b[0;32m   1325\u001b[0m     ) \u001b[39mfrom\u001b[39;00m \u001b[39mNone\u001b[39;00m\n\u001b[0;32m   1326\u001b[0m \u001b[39mreturn\u001b[39;00m fill_value\n",
      "\u001b[1;31mTypeError\u001b[0m: Cannot setitem on a Categorical with a new category (None), set the categories first"
     ]
    }
   ],
   "source": [
    "# Fill NaN values in post_score and pre_requirement with 0 and None respectively.\n",
    "data.fillna(value={'post_score': 0, 'pre_requirement': 'None'}, inplace=True)\n",
    "data.isna().sum()"
   ]
  },
  {
   "cell_type": "markdown",
   "metadata": {},
   "source": [
    "**Task 1**\n",
    "The dataset contains 1850 rows and 8 columns with missing values in only two columns before cleaning. I have validated all the columns against the criteria in the dataset table:\n",
    "\n",
    "* course_id: It does not have the same description, I changed the data type to category, and it  has no missing values.\n",
    "* couse_type: It does not have the same description, I changed the data type to category,  and it  has no missing values.\n",
    "* year: It has the same description without missing values.\n",
    "* enrollment_count: It has the same description without missing values.\n",
    "* pre_score: It does not have the same description, I changed the data type to float, and it  has no missing values.\n",
    "* post_score: It has the same description, and it  has 185 missing values which I replaced with 0.\n",
    "* pre_requirement: It does not have the same description, I changed the data type to category, and it  has 891 missing values which I replaced with “None”.\n",
    "* department: It does not have the same description, I changed the data type to category, and it  has no missing values."
   ]
  },
  {
   "cell_type": "markdown",
   "metadata": {
    "vscode": {
     "languageId": "plaintext"
    }
   },
   "source": [
    "**Task 2**\n",
    "The chart below shows the distribution of enrollment counts. It is a bimodal distribution where the first group or peak is centered at 170 stuedents enrolled and the second group or peak is centered at 250 students enrolled."
   ]
  },
  {
   "cell_type": "code",
   "execution_count": null,
   "metadata": {},
   "outputs": [
    {
     "data": {
      "text/plain": [
       "<Figure size 1000x600 with 0 Axes>"
      ]
     },
     "metadata": {},
     "output_type": "display_data"
    },
    {
     "data": {
      "image/png": "[encoded data removed]",
      "text/plain": [
       "<Figure size 500x500 with 1 Axes>"
      ]
     },
     "metadata": {},
     "output_type": "display_data"
    }
   ],
   "source": [
    "import matplotlib.pyplot as plt\n",
    "import seaborn as sns\n",
    "plt.figure(figsize=(10,6))\n",
    "sns.set_style('white')\n",
    "sns.displot(data, x='enrollment_count', kde=True, color='b')\n",
    "plt.xlabel('Number of students enrolled')\n",
    "plt.title('Distribution of Enrollment Counts')\n",
    "plt.show()"
   ]
  },
  {
   "cell_type": "markdown",
   "metadata": {},
   "source": [
    "**Task 3**\n",
    "The chart below shows the number of courses of each type. Online courses were approximately triple more than classroom courses."
   ]
  },
  {
   "cell_type": "code",
   "execution_count": null,
   "metadata": {},
   "outputs": [
    {
     "data": {
      "image/png": "[encoded data removed]",
      "text/plain": [
       "<Figure size 640x480 with 1 Axes>"
      ]
     },
     "metadata": {},
     "output_type": "display_data"
    }
   ],
   "source": [
    "ax=sns.countplot(x='course_type',\n",
    "              data=data,\n",
    "              order=data['course_type'].value_counts().index)\n",
    "for label in ax.containers:\n",
    "    ax.bar_label(label)\n",
    "plt.title('Number of each type of course')\n",
    "plt.show()"
   ]
  },
  {
   "cell_type": "markdown",
   "metadata": {},
   "source": [
    "**Task 4**\n",
    "From below, we can see the relationship between the type of course and the enrollment count. Most of the students enrolled for online courses."
   ]
  },
  {
   "cell_type": "code",
   "execution_count": null,
   "metadata": {},
   "outputs": [
    {
     "data": {
      "image/png": "[encoded data removed]",
      "text/plain": [
       "<Figure size 500x500 with 1 Axes>"
      ]
     },
     "metadata": {},
     "output_type": "display_data"
    }
   ],
   "source": [
    "sns.catplot(x='course_type', y='enrollment_count', data=data,jitter=False )\n",
    "plt.title('Relationship bwtween the course type and enrollment count.')\n",
    "plt.xlabel('Type of course')\n",
    "plt.ylabel('Number of students enrolled')\n",
    "plt.show()"
   ]
  },
  {
   "cell_type": "markdown",
   "metadata": {},
   "source": [
    "**Task 5**\n",
    "Essentially, predicting if the type of course a student will enroll online or classroom is a classification task."
   ]
  },
  {
   "cell_type": "code",
   "execution_count": null,
   "metadata": {},
   "outputs": [
    {
     "data": {
      "text/html": [
       "<div>\n",
       "<style scoped>\n",
       "    .dataframe tbody tr th:only-of-type {\n",
       "        vertical-align: middle;\n",
       "    }\n",
       "\n",
       "    .dataframe tbody tr th {\n",
       "        vertical-align: top;\n",
       "    }\n",
       "\n",
       "    .dataframe thead th {\n",
       "        text-align: right;\n",
       "    }\n",
       "</style>\n",
       "<table border=\"1\" class=\"dataframe\">\n",
       "  <thead>\n",
       "    <tr style=\"text-align: right;\">\n",
       "      <th></th>\n",
       "      <th>course_id</th>\n",
       "      <th>year</th>\n",
       "      <th>enrollment_count</th>\n",
       "      <th>pre_score</th>\n",
       "      <th>post_score</th>\n",
       "      <th>pre_requirement</th>\n",
       "      <th>department</th>\n",
       "      <th>course_type</th>\n",
       "    </tr>\n",
       "  </thead>\n",
       "  <tbody>\n",
       "    <tr>\n",
       "      <th>0</th>\n",
       "      <td>1</td>\n",
       "      <td>2018</td>\n",
       "      <td>165</td>\n",
       "      <td>28.14</td>\n",
       "      <td>73.0</td>\n",
       "      <td>Beginner</td>\n",
       "      <td>Science</td>\n",
       "      <td>0</td>\n",
       "    </tr>\n",
       "    <tr>\n",
       "      <th>1</th>\n",
       "      <td>2</td>\n",
       "      <td>2020</td>\n",
       "      <td>175</td>\n",
       "      <td>79.68</td>\n",
       "      <td>86.0</td>\n",
       "      <td>NaN</td>\n",
       "      <td>Science</td>\n",
       "      <td>0</td>\n",
       "    </tr>\n",
       "    <tr>\n",
       "      <th>2</th>\n",
       "      <td>3</td>\n",
       "      <td>2016</td>\n",
       "      <td>257</td>\n",
       "      <td>57.24</td>\n",
       "      <td>80.0</td>\n",
       "      <td>NaN</td>\n",
       "      <td>Mathematics</td>\n",
       "      <td>1</td>\n",
       "    </tr>\n",
       "    <tr>\n",
       "      <th>3</th>\n",
       "      <td>4</td>\n",
       "      <td>2013</td>\n",
       "      <td>251</td>\n",
       "      <td>97.67</td>\n",
       "      <td>75.0</td>\n",
       "      <td>Beginner</td>\n",
       "      <td>Technology</td>\n",
       "      <td>1</td>\n",
       "    </tr>\n",
       "    <tr>\n",
       "      <th>4</th>\n",
       "      <td>5</td>\n",
       "      <td>2019</td>\n",
       "      <td>165</td>\n",
       "      <td>39.75</td>\n",
       "      <td>76.0</td>\n",
       "      <td>Beginner</td>\n",
       "      <td>Science</td>\n",
       "      <td>0</td>\n",
       "    </tr>\n",
       "  </tbody>\n",
       "</table>\n",
       "</div>"
      ],
      "text/plain": [
       "  course_id  year  enrollment_count  pre_score  post_score pre_requirement   \n",
       "0         1  2018               165      28.14        73.0        Beginner  \\\n",
       "1         2  2020               175      79.68        86.0             NaN   \n",
       "2         3  2016               257      57.24        80.0             NaN   \n",
       "3         4  2013               251      97.67        75.0        Beginner   \n",
       "4         5  2019               165      39.75        76.0        Beginner   \n",
       "\n",
       "    department  course_type  \n",
       "0      Science            0  \n",
       "1      Science            0  \n",
       "2  Mathematics            1  \n",
       "3   Technology            1  \n",
       "4      Science            0  "
      ]
     },
     "execution_count": 151,
     "metadata": {},
     "output_type": "execute_result"
    }
   ],
   "source": [
    "#Prepocessing of data\n",
    "\n",
    "data_dummies=pd.get_dummies(data['course_type'],dtype=int)\n",
    "\n",
    "data_1 = pd.concat((data, data_dummies), axis=1)\n",
    " \n",
    "# Gendercolumn is dropped\n",
    "data_1 = data_1.drop([\"classroom\", 'course_type'], axis=1)\n",
    " \n",
    "# Rename the Column\n",
    "data_1 = data_1.rename(columns={\"online\": \"course_type\"})\n",
    " \n",
    "data_1.head()    "
   ]
  },
  {
   "cell_type": "code",
   "execution_count": 158,
   "metadata": {},
   "outputs": [
    {
     "data": {
      "text/html": [
       "<div>\n",
       "<style scoped>\n",
       "    .dataframe tbody tr th:only-of-type {\n",
       "        vertical-align: middle;\n",
       "    }\n",
       "\n",
       "    .dataframe tbody tr th {\n",
       "        vertical-align: top;\n",
       "    }\n",
       "\n",
       "    .dataframe thead th {\n",
       "        text-align: right;\n",
       "    }\n",
       "</style>\n",
       "<table border=\"1\" class=\"dataframe\">\n",
       "  <thead>\n",
       "    <tr style=\"text-align: right;\">\n",
       "      <th></th>\n",
       "      <th>year</th>\n",
       "      <th>enrollment_count</th>\n",
       "      <th>pre_score</th>\n",
       "      <th>post_score</th>\n",
       "      <th>course_type</th>\n",
       "    </tr>\n",
       "  </thead>\n",
       "  <tbody>\n",
       "    <tr>\n",
       "      <th>0</th>\n",
       "      <td>2018</td>\n",
       "      <td>165</td>\n",
       "      <td>28.14</td>\n",
       "      <td>73.0</td>\n",
       "      <td>0</td>\n",
       "    </tr>\n",
       "    <tr>\n",
       "      <th>1</th>\n",
       "      <td>2020</td>\n",
       "      <td>175</td>\n",
       "      <td>79.68</td>\n",
       "      <td>86.0</td>\n",
       "      <td>0</td>\n",
       "    </tr>\n",
       "    <tr>\n",
       "      <th>2</th>\n",
       "      <td>2016</td>\n",
       "      <td>257</td>\n",
       "      <td>57.24</td>\n",
       "      <td>80.0</td>\n",
       "      <td>1</td>\n",
       "    </tr>\n",
       "    <tr>\n",
       "      <th>3</th>\n",
       "      <td>2013</td>\n",
       "      <td>251</td>\n",
       "      <td>97.67</td>\n",
       "      <td>75.0</td>\n",
       "      <td>1</td>\n",
       "    </tr>\n",
       "    <tr>\n",
       "      <th>4</th>\n",
       "      <td>2019</td>\n",
       "      <td>165</td>\n",
       "      <td>39.75</td>\n",
       "      <td>76.0</td>\n",
       "      <td>0</td>\n",
       "    </tr>\n",
       "  </tbody>\n",
       "</table>\n",
       "</div>"
      ],
      "text/plain": [
       "   year  enrollment_count  pre_score  post_score  course_type\n",
       "0  2018               165      28.14        73.0            0\n",
       "1  2020               175      79.68        86.0            0\n",
       "2  2016               257      57.24        80.0            1\n",
       "3  2013               251      97.67        75.0            1\n",
       "4  2019               165      39.75        76.0            0"
      ]
     },
     "execution_count": 158,
     "metadata": {},
     "output_type": "execute_result"
    }
   ],
   "source": [
    "data1=data_1.drop(['course_id', 'pre_requirement', 'department'], axis=1)\n",
    "\n",
    "data1.head()\n"
   ]
  },
  {
   "cell_type": "code",
   "execution_count": 159,
   "metadata": {},
   "outputs": [],
   "source": [
    "#Splitting the dataset into train and test sets\n",
    "from sklearn.model_selection import train_test_split\n",
    "\n",
    "X = data1.drop(\"course_type\", axis=1).values\n",
    "y = data1[\"course_type\"].values\n",
    "X_train, X_test, y_train, y_test = train_test_split(X, y, test_size=0.2, random_state=42)"
   ]
  },
  {
   "cell_type": "markdown",
   "metadata": {},
   "source": [
    "**Task 6 and 7**\n",
    "\n",
    "The baseline model is Logistic Regression model\n",
    "the comparison model is Decision Tree Classifier model\n"
   ]
  },
  {
   "cell_type": "code",
   "execution_count": 167,
   "metadata": {},
   "outputs": [
    {
     "data": {
      "image/png": "[encoded data removed]",
      "text/plain": [
       "<Figure size 640x480 with 1 Axes>"
      ]
     },
     "metadata": {},
     "output_type": "display_data"
    }
   ],
   "source": [
    "from sklearn.preprocessing import MinMaxScaler\n",
    "from sklearn.model_selection import cross_val_score, KFold\n",
    "from sklearn.linear_model import LogisticRegression\n",
    "from sklearn.tree import DecisionTreeClassifier\n",
    "\n",
    "\n",
    "scaler = MinMaxScaler(feature_range=(0, 1))\n",
    "X_train_scaled = scaler.fit_transform(X_train)\n",
    "X_test_scaled = scaler.transform(X_test)\n",
    "\n",
    "models = {\"Logistic Regression\": LogisticRegression(), \n",
    " \"Decision Tree\": DecisionTreeClassifier()}\n",
    "results = []\n",
    "for model in models.values():  \n",
    "   kf = KFold(n_splits=6, random_state=42, shuffle=True)    \n",
    "   cv_results = cross_val_score(model, X_train_scaled, y_train, cv=kf)   \n",
    "   results.append(cv_results)\n",
    "plt.boxplot(results, labels=models.keys())\n",
    "plt.show()\n"
   ]
  },
  {
   "cell_type": "markdown",
   "metadata": {},
   "source": [
    "**Task 8**\n",
    "I chose logistic regression because this dataset has few features which require a simple model and has faster training time. As a comparison model,  decision tree classifier model is used for its high interpretability."
   ]
  },
  {
   "cell_type": "markdown",
   "metadata": {},
   "source": [
    "**Task 9**\n",
    "I checked for the accuracy of the models to evaluate the performance of the models."
   ]
  },
  {
   "cell_type": "code",
   "execution_count": 166,
   "metadata": {},
   "outputs": [
    {
     "name": "stdout",
     "output_type": "stream",
     "text": [
      "Logistic Regression Test Set Accuracy: 1.0\n",
      "Decision Tree Test Set Accuracy: 1.0\n"
     ]
    }
   ],
   "source": [
    "#Performance of models\n",
    "for name, model in models.items(): \n",
    "     model.fit(X_train_scaled, y_train) \n",
    "     test_score = model.score(X_test_scaled, y_test)\n",
    "     print(\"{} Test Set Accuracy: {}\".format(name, test_score))"
   ]
  },
  {
   "cell_type": "markdown",
   "metadata": {},
   "source": [
    "**Task 10**\n",
    "Both of the models have an accuracy of 1, therefore either of the models can be used."
   ]
  }
 ],
 "metadata": {
  "kernelspec": {
   "display_name": "Python 3",
   "language": "python",
   "name": "python3"
  },
  "language_info": {
   "codemirror_mode": {
    "name": "ipython",
    "version": 3
   },
   "file_extension": ".py",
   "mimetype": "text/x-python",
   "name": "python",
   "nbconvert_exporter": "python",
   "pygments_lexer": "ipython3",
   "version": "3.11.3"
  },
  "orig_nbformat": 4
 },
 "nbformat": 4,
 "nbformat_minor": 2
}
